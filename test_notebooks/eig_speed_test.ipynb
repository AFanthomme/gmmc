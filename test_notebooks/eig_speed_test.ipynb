{
 "cells": [
  {
   "cell_type": "code",
   "execution_count": 2,
   "metadata": {
    "collapsed": false
   },
   "outputs": [
    {
     "name": "stdout",
     "output_type": "stream",
     "text": [
      "For N = 10, numpy took 9.38e-04 pm 1.92e-03\n",
      "For N = 10, pytorch on CPU took 1.12e-04 pm 6.61e-05\n",
      "For N = 100, numpy took 3.20e-02 pm 2.69e-02\n",
      "For N = 100, pytorch on CPU took 5.56e-03 pm 5.39e-03\n",
      "For N = 200, numpy took 1.58e-01 pm 1.22e-01\n",
      "For N = 200, pytorch on CPU took 4.13e-02 pm 5.63e-02\n",
      "For N = 350, numpy took 4.33e-01 pm 1.74e-01\n",
      "For N = 350, pytorch on CPU took 1.57e-01 pm 7.73e-02\n",
      "For N = 400, numpy took 5.31e-01 pm 1.63e-01\n",
      "For N = 400, pytorch on CPU took 2.20e-01 pm 6.77e-02\n",
      "For N = 500, numpy took 5.51e-01 pm 1.15e-01\n",
      "For N = 500, pytorch on CPU took 3.97e-01 pm 1.69e-01\n",
      "For N = 600, numpy took 9.79e-01 pm 1.21e-01\n",
      "For N = 600, pytorch on CPU took 4.86e-01 pm 1.34e-01\n",
      "For N = 650, numpy took 1.15e+00 pm 2.07e-01\n",
      "For N = 650, pytorch on CPU took 4.96e-01 pm 1.82e-01\n",
      "For N = 1000, numpy took 2.09e+00 pm 1.80e-01\n",
      "For N = 1000, pytorch on CPU took 1.29e+00 pm 2.93e-01\n"
     ]
    }
   ],
   "source": [
    "import numpy as np\n",
    "import torch as tch\n",
    "import time\n",
    "\n",
    "# Compare performance of np and tch on matrix eigenvalue decomposition\n",
    "\n",
    "def test_np(N):\n",
    "    J = np.random.normal(scale=1./np.sqrt(N), size=(N,N)).astype(dtype=np.float32)\n",
    "    J = (J + J.T) / np.sqrt(2)\n",
    "    spectrum, _ = np.linalg.eig(J)\n",
    "\n",
    "def test_tch_cpu(N):\n",
    "    J = tch.normal(tch.zeros([N,N], dtype=tch.float32), 1./np.sqrt(N))\n",
    "    J = (J + J.t()) / np.sqrt(2)\n",
    "    spectrum, _ = tch.eig(J)\n",
    "\n",
    "def test_tch_gpu(N):\n",
    "    J = tch.normal(tch.zeros([N,N], dtype=tch.float32).cuda(), 1./np.sqrt(N))\n",
    "    J = (J + J.t()) / np.sqrt(2)\n",
    "    spectrum, _ = tch.eig(J)\n",
    "\n",
    "def profile(func):\n",
    "    plop = np.zeros(10)\n",
    "    for i in range(10):\n",
    "        tic = time.time()\n",
    "        func()\n",
    "        plop[i] = time.time() - tic\n",
    "    return np.mean(plop), np.std(plop)\n",
    "\n",
    "\n",
    "for N in [10, 100, 200, 350, 400, 500, 600, 650, 1000]:\n",
    "\n",
    "\n",
    "    np_lambda = lambda: test_np(N)\n",
    "    tch_cpu_lambda = lambda: test_tch_cpu(N)\n",
    "#     tch_gpu_lambda = lambda: test_tch_gpu(N)\n",
    "\n",
    "    if N <= 1000:\n",
    "        m, v = profile(np_lambda)\n",
    "        print('For N = {}, numpy took {:.2e} pm {:.2e}'.format(N, m, v))\n",
    "    m, v = profile(tch_cpu_lambda)\n",
    "    print('For N = {}, pytorch on CPU took {:.2e} pm {:.2e}'.format(N, m, v))\n",
    "#     m, v = profile(tch_gpu_lambda)\n",
    "#     print('For N = {}, pytorch on GPU took {:.2e} pm {:.2e}'.format(N, m, v))"
   ]
  },
  {
   "cell_type": "markdown",
   "metadata": {},
   "source": [
    "Conclusion :\n",
    "Should use tch_cpu for small matrices (3x speedup wrt np), and gpu only when very large matrices (N>~600)\n",
    "Numpy is never a good choice..."
   ]
  },
  {
   "cell_type": "code",
   "execution_count": 3,
   "metadata": {
    "collapsed": false
   },
   "outputs": [
    {
     "name": "stdout",
     "output_type": "stream",
     "text": [
      "For N = 10, numpy took 1.73e-04 pm 2.29e-04\n",
      "For N = 10, pytorch on CPU took 8.18e-05 pm 7.72e-05\n",
      "For N = 100, numpy took 2.82e-02 pm 2.06e-02\n",
      "For N = 100, pytorch on CPU took 7.01e-04 pm 1.36e-04\n",
      "For N = 200, numpy took 4.73e-02 pm 1.51e-02\n",
      "For N = 200, pytorch on CPU took 6.34e-03 pm 2.78e-03\n",
      "For N = 350, numpy took 7.06e-02 pm 5.78e-02\n",
      "For N = 350, pytorch on CPU took 1.76e-02 pm 1.22e-02\n",
      "For N = 400, numpy took 1.04e-01 pm 4.56e-02\n",
      "For N = 400, pytorch on CPU took 2.19e-02 pm 2.18e-02\n",
      "For N = 500, numpy took 1.75e-01 pm 1.43e-01\n",
      "For N = 500, pytorch on CPU took 4.63e-02 pm 6.62e-02\n",
      "For N = 600, numpy took 2.05e-01 pm 7.97e-02\n",
      "For N = 600, pytorch on CPU took 4.58e-02 pm 2.84e-02\n",
      "For N = 650, numpy took 2.26e-01 pm 1.08e-01\n",
      "For N = 650, pytorch on CPU took 6.87e-02 pm 4.47e-02\n",
      "For N = 1000, numpy took 4.91e-01 pm 1.78e-01\n",
      "For N = 1000, pytorch on CPU took 2.24e-01 pm 9.60e-02\n"
     ]
    }
   ],
   "source": [
    "import numpy as np\n",
    "import torch as tch\n",
    "import time\n",
    "\n",
    "# Compare performance of np and tch on matrix eigenvalue decomposition for symmetric matrices\n",
    "\n",
    "def test_np(N):\n",
    "    J = np.random.normal(scale=1./np.sqrt(N), size=(N,N)).astype(dtype=np.float32)\n",
    "    J = (J + J.T) / np.sqrt(2)\n",
    "    spectrum, _ = np.linalg.eigh(J)\n",
    "\n",
    "def test_tch_cpu(N):\n",
    "    J = tch.normal(tch.zeros([N,N], dtype=tch.float32), 1./np.sqrt(N))\n",
    "    J = (J + J.t()) / np.sqrt(2)\n",
    "    spectrum, _ = tch.symeig(J)\n",
    "\n",
    "def test_tch_gpu(N):\n",
    "    J = tch.normal(tch.zeros([N,N], dtype=tch.float32).cuda(), 1./np.sqrt(N))\n",
    "    J = (J + J.t()) / np.sqrt(2)\n",
    "    spectrum, _ = tch.symeig(J)\n",
    "\n",
    "def profile(func):\n",
    "    plop = np.zeros(10)\n",
    "    for i in range(10):\n",
    "        tic = time.time()\n",
    "        func()\n",
    "        plop[i] = time.time() - tic\n",
    "    return np.mean(plop), np.std(plop)\n",
    "\n",
    "\n",
    "for N in [10, 100, 200, 350, 400, 500, 600, 650, 1000]:\n",
    "\n",
    "    np_lambda = lambda: test_np(N)\n",
    "    tch_cpu_lambda = lambda: test_tch_cpu(N)\n",
    "#     tch_gpu_lambda = lambda: test_tch_gpu(N)\n",
    "\n",
    "    if N <= 1000:\n",
    "        m, v = profile(np_lambda)\n",
    "        print('For N = {}, numpy took {:.2e} pm {:.2e}'.format(N, m, v))\n",
    "    m, v = profile(tch_cpu_lambda)\n",
    "    print('For N = {}, pytorch on CPU took {:.2e} pm {:.2e}'.format(N, m, v))\n",
    "#     m, v = profile(tch_gpu_lambda)\n",
    "#     print('For N = {}, pytorch on GPU took {:.2e} pm {:.2e}'.format(N, m, v))"
   ]
  },
  {
   "cell_type": "code",
   "execution_count": null,
   "metadata": {
    "collapsed": true
   },
   "outputs": [],
   "source": [
    "Conclusion :\n",
    "Use symeig, MUCH faster on large matrices"
   ]
  }
 ],
 "metadata": {
  "kernelspec": {
   "display_name": "Python 3",
   "language": "python",
   "name": "python3"
  },
  "language_info": {
   "codemirror_mode": {
    "name": "ipython",
    "version": 3
   },
   "file_extension": ".py",
   "mimetype": "text/x-python",
   "name": "python",
   "nbconvert_exporter": "python",
   "pygments_lexer": "ipython3",
   "version": "3.5.3"
  }
 },
 "nbformat": 4,
 "nbformat_minor": 2
}
