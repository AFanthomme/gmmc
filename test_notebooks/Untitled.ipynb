{
 "cells": [
  {
   "cell_type": "code",
   "execution_count": 4,
   "metadata": {},
   "outputs": [
    {
     "name": "stdout",
     "output_type": "stream",
     "text": [
      "[(0, 1), (0, 2), (1, 1), (1, 2)]\n"
     ]
    }
   ],
   "source": [
    "import numpy as np\n",
    "from itertools import product\n",
    "\n",
    "print(list(product(*[[0,1], [1, 2]])))"
   ]
  },
  {
   "cell_type": "code",
   "execution_count": 7,
   "metadata": {},
   "outputs": [
    {
     "name": "stdout",
     "output_type": "stream",
     "text": [
      "Total number of experiments : 6, make sure it is reasonable...\n",
      "All values : [(0, 3), (0, 8), (1, 3), (1, 8), (5, 3), (5, 8)]\n",
      "[{'p1': 0, 'p2': 3}, {'p1': 0, 'p2': 8}, {'p1': 1, 'p2': 3}, {'p1': 1, 'p2': 8}, {'p1': 5, 'p2': 3}, {'p1': 5, 'p2': 8}]\n"
     ]
    }
   ],
   "source": [
    "def explore_params(base_params, search_grid):\n",
    "    '''\n",
    "    Generate all parameter combinations and run each using run_multi_threaded\n",
    "\n",
    "    :param base_params: config from which we want to start exploring\n",
    "    :param search_grid: dict {key: list of values} of values to test for each specified param\n",
    "    :return:\n",
    "    '''\n",
    "\n",
    "    params_to_vary = list(search_grid.keys())\n",
    "    n_values_per_param = [len(search_grid[p]) for p in params_to_vary]\n",
    "    print('Total number of experiments : {}, make sure it is reasonable...'.format(np.prod(n_values_per_param)))\n",
    "    all_values = list(product(*[search_grid[key] for key in params_to_vary]))\n",
    "    print('All values : {}'.format(all_values))\n",
    "    list_of_dicts = []\n",
    "    for param_tuple in all_values:\n",
    "        list_of_dicts.append({params_to_vary[param_idx]: param_tuple[param_idx] for param_idx in range(len(params_to_vary))})\n",
    "\n",
    "    print(list_of_dicts)\n",
    "    \n",
    "base = {}\n",
    "search_grid = {'p1' : [0, 1, 5], 'p2':[3,8]}\n",
    "explore_params(base, search_grid)"
   ]
  },
  {
   "cell_type": "code",
   "execution_count": 23,
   "metadata": {},
   "outputs": [
    {
     "name": "stderr",
     "output_type": "stream",
     "text": [
      "\r",
      "  0%|          | 0/6 [00:00<?, ?it/s]"
     ]
    },
    {
     "name": "stdout",
     "output_type": "stream",
     "text": [
      "Using base configuration {'n_threads': 3, 'n_seeds': 2, 'p2': -1}\n",
      "Total number of experiments : 6, make sure it is reasonable...\n",
      "Using parameters {'n_threads': 3, 'n_seeds': 2, 'p2': 3, 'p1': 0}\n",
      "Exp with id fb53734b34b7ba67 and params {'n_threads': 3, 'n_seeds': 2, 'p2': 3, 'p1': 0}\n",
      "seed 0 {'n_threads': 3, 'n_seeds': 2, 'p2': 3, 'p1': 0}\n",
      "seed 1 {'n_threads': 3, 'n_seeds': 2, 'p2': 3, 'p1': 0}\n"
     ]
    },
    {
     "name": "stderr",
     "output_type": "stream",
     "text": [
      "\r",
      " 17%|█▋        | 1/6 [00:00<00:00,  6.14it/s]"
     ]
    },
    {
     "name": "stdout",
     "output_type": "stream",
     "text": [
      "Using parameters {'n_threads': 3, 'n_seeds': 2, 'p2': 8, 'p1': 0}\n",
      "Exp with id c4032988b5826a97 and params {'n_threads': 3, 'n_seeds': 2, 'p2': 8, 'p1': 0}\n",
      "seed 0 {'n_threads': 3, 'n_seeds': 2, 'p2': 8, 'p1': 0}\n",
      "seed 1 {'n_threads': 3, 'n_seeds': 2, 'p2': 8, 'p1': 0}\n"
     ]
    },
    {
     "name": "stderr",
     "output_type": "stream",
     "text": [
      "\r",
      " 33%|███▎      | 2/6 [00:00<00:00,  6.66it/s]"
     ]
    },
    {
     "name": "stdout",
     "output_type": "stream",
     "text": [
      "Using parameters {'n_threads': 3, 'n_seeds': 2, 'p2': 3, 'p1': 1}\n",
      "Exp with id e4c2606d4a802832 and params {'n_threads': 3, 'n_seeds': 2, 'p2': 3, 'p1': 1}\n",
      "seed 0 {'n_threads': 3, 'n_seeds': 2, 'p2': 3, 'p1': 1}\n",
      "seed 1 {'n_threads': 3, 'n_seeds': 2, 'p2': 3, 'p1': 1}\n"
     ]
    },
    {
     "name": "stderr",
     "output_type": "stream",
     "text": [
      "\r",
      " 50%|█████     | 3/6 [00:00<00:00,  7.24it/s]"
     ]
    },
    {
     "name": "stdout",
     "output_type": "stream",
     "text": [
      "Using parameters {'n_threads': 3, 'n_seeds': 2, 'p2': 8, 'p1': 1}\n",
      "Exp with id dd0692ab50419b2d and params {'n_threads': 3, 'n_seeds': 2, 'p2': 8, 'p1': 1}\n",
      "seed 0 {'n_threads': 3, 'n_seeds': 2, 'p2': 8, 'p1': 1}\n",
      "seed 1 {'n_threads': 3, 'n_seeds': 2, 'p2': 8, 'p1': 1}\n",
      "Using parameters {'n_threads': 3, 'n_seeds': 2, 'p2': 3, 'p1': 5}\n",
      "Exp with id 5bebd48569aa7183 and params {'n_threads': 3, 'n_seeds': 2, 'p2': 3, 'p1': 5}\n",
      "seed 1 {'n_threads': 3, 'n_seeds': 2, 'p2': 3, 'p1': 5}\n",
      "seed 0 {'n_threads': 3, 'n_seeds': 2, 'p2': 3, 'p1': 5}\n"
     ]
    },
    {
     "name": "stderr",
     "output_type": "stream",
     "text": [
      "\r",
      " 83%|████████▎ | 5/6 [00:00<00:00,  8.48it/s]"
     ]
    },
    {
     "name": "stdout",
     "output_type": "stream",
     "text": [
      "Using parameters {'n_threads': 3, 'n_seeds': 2, 'p2': 8, 'p1': 5}\n",
      "Exp with id 3b75e18542c1cb68 and params {'n_threads': 3, 'n_seeds': 2, 'p2': 8, 'p1': 5}\n",
      "seed 0 {'n_threads': 3, 'n_seeds': 2, 'p2': 8, 'p1': 5}\n",
      "seed 1 {'n_threads': 3, 'n_seeds': 2, 'p2': 8, 'p1': 5}\n"
     ]
    },
    {
     "name": "stderr",
     "output_type": "stream",
     "text": [
      "100%|██████████| 6/6 [00:00<00:00,  8.02it/s]\n"
     ]
    }
   ],
   "source": [
    "from copy import deepcopy\n",
    "import tqdm\n",
    "import hashlib\n",
    "import json\n",
    "import os\n",
    "import numpy as np\n",
    "from multiprocessing import Pool as ThreadPool\n",
    "from itertools import product\n",
    "from copy import deepcopy\n",
    "\n",
    "def plop(dict, seed):\n",
    "    print('seed {}'.format(seed), dict)\n",
    "    \n",
    "def get_id_for_dict(in_dict):\n",
    "    # Transform a parameter dict into a 16 digits hash for easier storage\n",
    "    # Forget n_seeds and n_threads, if there is no param named like that it will have no effect\n",
    "    dict_filtered = {key: in_dict[key] for key in in_dict.keys() if key not in ['n_threads', 'n_seeds']}\n",
    "    return hashlib.sha256(json.dumps(dict_filtered, sort_keys=True).encode('utf-8')).hexdigest()[:16]\n",
    "    \n",
    "def run_multi_threaded(function, params):\n",
    "    '''\n",
    "    Run given function with different seeds.\n",
    "\n",
    "    :param function: the function to execute with each new set of params; signature (params:dict, seed : int) -> None.\n",
    "                        First step of that function should be to set the seed.\n",
    "    :param params: the parameters dict to run in multi-threaded (exploration on this done through \"explore_params\")\n",
    "    :return: None\n",
    "    '''\n",
    "\n",
    "    # Determine the hash for that particular experiment\n",
    "    hash = get_id_for_dict(params)\n",
    "    # Print a message for debugging\n",
    "    print('Exp with id {} and params {}'.format(hash, params))\n",
    "    out_dir = 'out/raw/{}'.format(hash)\n",
    "\n",
    "    # Just in case two params gave exactly the same hash\n",
    "    # If more than 2 exps with same hash, will fail (but should never happen)\n",
    "    try:\n",
    "        os.makedirs(out_dir)\n",
    "        out_dir += '/'\n",
    "    except FileExistsError:\n",
    "        out_dir += '_dup'\n",
    "        os.makedirs(out_dir)\n",
    "        out_dir += '/'\n",
    "\n",
    "    with open(out_dir + 'params', 'w') as outfile:\n",
    "        json.dump(params, outfile)\n",
    "\n",
    "    pool = ThreadPool(params['n_threads'])\n",
    "\n",
    "    _ = pool.starmap(function, zip(\n",
    "            [params for _ in range(params['n_seeds'])],\n",
    "            range(params['n_seeds']))\n",
    "            )\n",
    "\n",
    "    with open(out_dir + 'exited_naturally', 'w') as outfile:\n",
    "        outfile.write('True')\n",
    "\n",
    "def explore_params(function, base_params, search_grid):\n",
    "    '''\n",
    "    Generate all parameter combinations and run each using run_multi_threaded\n",
    "\n",
    "    :param base_params: config from which we want to start exploring\n",
    "    :param search_grid: dict {key: list of values} of values to test for each specified param\n",
    "    :return:\n",
    "    '''\n",
    "\n",
    "    print('Using base configuration {}'.format(base_params))\n",
    "\n",
    "    params_to_vary = list(search_grid.keys())\n",
    "    n_variables = len(params_to_vary)\n",
    "    n_values_per_param = [len(search_grid[p]) for p in params_to_vary]\n",
    "    print('Total number of experiments : {}, make sure it is reasonable...'.format(np.prod(n_values_per_param)))\n",
    "    all_values = list(product(*[search_grid[key] for key in params_to_vary]))\n",
    "\n",
    "    for param_tuple in tqdm.tqdm(all_values):\n",
    "        tmp = deepcopy(base_params)\n",
    "        for i in range(n_variables):\n",
    "            tmp[params_to_vary[i]] = param_tuple[i]\n",
    "        print('Using parameters {}'.format(tmp))\n",
    "        # Now, call multi-threaded simulation for these params (not optimal, we could start new threads as soon as 1\n",
    "        # is done, but should be reasonable if n_threads divides n_seeds (if not, might have to wait for one thread\n",
    "        # to do full simulation before starting the next batch of 12...)\n",
    "        run_multi_threaded(function, tmp)\n",
    "base = {'n_threads' : 3, 'n_seeds':2, 'p2' : -1}\n",
    "search_grid = {'p1' : [0, 1, 5], 'p2':[3,8]}\n",
    "explore_params(plop, base, search_grid)"
   ]
  },
  {
   "cell_type": "code",
   "execution_count": null,
   "metadata": {},
   "outputs": [],
   "source": []
  }
 ],
 "metadata": {
  "kernelspec": {
   "display_name": "Python [conda env:env_oct_18]",
   "language": "python",
   "name": "conda-env-env_oct_18-py"
  },
  "language_info": {
   "codemirror_mode": {
    "name": "ipython",
    "version": 3
   },
   "file_extension": ".py",
   "mimetype": "text/x-python",
   "name": "python",
   "nbconvert_exporter": "python",
   "pygments_lexer": "ipython3",
   "version": "3.6.4"
  }
 },
 "nbformat": 4,
 "nbformat_minor": 2
}
