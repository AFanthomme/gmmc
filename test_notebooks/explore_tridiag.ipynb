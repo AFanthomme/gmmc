{
 "cells": [
  {
   "cell_type": "code",
   "execution_count": 7,
   "metadata": {},
   "outputs": [
    {
     "name": "stdout",
     "output_type": "stream",
     "text": [
      "[[0. 1. 0. 0. 0. 0. 0. 0. 0. 0.]\n",
      " [1. 0. 1. 0. 0. 0. 0. 0. 0. 0.]\n",
      " [0. 1. 0. 1. 0. 0. 0. 0. 0. 0.]\n",
      " [0. 0. 1. 0. 1. 0. 0. 0. 0. 0.]\n",
      " [0. 0. 0. 1. 0. 1. 0. 0. 0. 0.]\n",
      " [0. 0. 0. 0. 1. 0. 1. 0. 0. 0.]\n",
      " [0. 0. 0. 0. 0. 1. 0. 1. 0. 0.]\n",
      " [0. 0. 0. 0. 0. 0. 1. 0. 1. 0.]\n",
      " [0. 0. 0. 0. 0. 0. 0. 1. 0. 1.]\n",
      " [0. 0. 0. 0. 0. 0. 0. 0. 1. 0.]]\n",
      "[-1.91898595 -1.68250707 -1.30972147 -0.83083003 -0.28462968  0.28462968\n",
      "  1.91898595  1.68250707  1.30972147  0.83083003]\n",
      "[[1.  0.1 0.  0.  0.  0.  0.  0.  0.  0. ]\n",
      " [0.1 1.  0.1 0.  0.  0.  0.  0.  0.  0. ]\n",
      " [0.  0.1 1.  0.1 0.  0.  0.  0.  0.  0. ]\n",
      " [0.  0.  0.1 1.  0.1 0.  0.  0.  0.  0. ]\n",
      " [0.  0.  0.  0.1 1.  0.1 0.  0.  0.  0. ]\n",
      " [0.  0.  0.  0.  0.1 1.  0.1 0.  0.  0. ]\n",
      " [0.  0.  0.  0.  0.  0.1 1.  0.1 0.  0. ]\n",
      " [0.  0.  0.  0.  0.  0.  0.1 1.  0.1 0. ]\n",
      " [0.  0.  0.  0.  0.  0.  0.  0.1 1.  0.1]\n",
      " [0.  0.  0.  0.  0.  0.  0.  0.  0.1 1. ]]\n",
      "[0.80810141 0.83174929 0.86902785 0.916917   0.97153703 1.02846297\n",
      " 1.19189859 1.16825071 1.13097215 1.083083  ]\n"
     ]
    }
   ],
   "source": [
    "import numpy as np\n",
    "N=10\n",
    "\n",
    "mat = np.zeros((N,N))\n",
    "for i in range(N-1):\n",
    "    mat[i, i+1] = 1\n",
    "    mat[i+1, i] = 1\n",
    "\n",
    "print(mat)\n",
    "print(np.linalg.eig(mat)[0])\n",
    "\n",
    "def normalize(sigma):\n",
    "    dim = sigma.shape[0]\n",
    "    # Impose PD and mean of eigenvalues equal 1\n",
    "\n",
    "    # Forces all diagonal elements to be the same\n",
    "    # That's the easiest way to ensure all ev > 0...\n",
    "    sigma -= np.diag(np.diag(sigma))\n",
    "    sigma += np.diag([dim for _ in range(dim)])\n",
    "\n",
    "    sigma *= dim / np.sum(np.linalg.eig(sigma)[0])\n",
    "    assert np.all(np.linalg.eig(sigma)[0] > 0.)\n",
    "    assert np.abs(np.sum(np.linalg.eig(sigma)[0]) - dim) < 0.05\n",
    "\n",
    "    return sigma\n",
    "\n",
    "mat2 = normalize(mat)\n",
    "print(mat2)\n",
    "print(np.linalg.eig(mat2)[0])"
   ]
  },
  {
   "cell_type": "code",
   "execution_count": null,
   "metadata": {},
   "outputs": [],
   "source": []
  }
 ],
 "metadata": {
  "kernelspec": {
   "display_name": "Python (conda_base)",
   "language": "python",
   "name": "base"
  },
  "language_info": {
   "codemirror_mode": {
    "name": "ipython",
    "version": 3
   },
   "file_extension": ".py",
   "mimetype": "text/x-python",
   "name": "python",
   "nbconvert_exporter": "python",
   "pygments_lexer": "ipython3",
   "version": "3.6.4"
  }
 },
 "nbformat": 4,
 "nbformat_minor": 2
}
