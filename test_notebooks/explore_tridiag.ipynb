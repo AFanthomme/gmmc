{
 "cells": [
  {
   "cell_type": "code",
   "execution_count": 1,
   "metadata": {},
   "outputs": [
    {
     "name": "stdout",
     "output_type": "stream",
     "text": [
      "[[0. 1. 0. ... 0. 0. 0.]\n",
      " [1. 0. 1. ... 0. 0. 0.]\n",
      " [0. 1. 0. ... 0. 0. 0.]\n",
      " ...\n",
      " [0. 0. 0. ... 0. 1. 0.]\n",
      " [0. 0. 0. ... 1. 0. 1.]\n",
      " [0. 0. 0. ... 0. 1. 0.]]\n",
      "[-1.99620666 -1.98484102 -1.9659462  -1.93959387 -1.905884   -1.86494446\n",
      " -1.81693054 -1.76202439 -1.70043427 -1.63239382 -1.55816115 -1.47801783\n",
      " -1.39226789 -1.3012366  -1.20526927 -1.10472995 -1.         -0.89147671\n",
      " -0.77957175 -0.6647096  -0.54732598 -0.42786617 -0.30678331 -0.18453672\n",
      " -0.06159012  0.06159012  0.18453672  0.30678331  0.42786617  0.54732598\n",
      "  0.6647096   0.77957175  0.89147671  1.99620666  1.98484102  1.9659462\n",
      "  1.93959387  1.905884    1.86494446  1.81693054  1.76202439  1.70043427\n",
      "  1.63239382  1.55816115  1.47801783  1.39226789  1.3012366   1.20526927\n",
      "  1.10472995  1.        ]\n",
      "[[1.   0.02 0.   ... 0.   0.   0.  ]\n",
      " [0.02 1.   0.02 ... 0.   0.   0.  ]\n",
      " [0.   0.02 1.   ... 0.   0.   0.  ]\n",
      " ...\n",
      " [0.   0.   0.   ... 1.   0.02 0.  ]\n",
      " [0.   0.   0.   ... 0.02 1.   0.02]\n",
      " [0.   0.   0.   ... 0.   0.02 1.  ]]\n",
      "[0.96007587 0.96030318 0.96068108 0.96120812 0.96188232 0.96270111\n",
      " 0.96366139 0.96475951 0.96599131 0.96735212 0.96883678 0.97043964\n",
      " 0.97215464 0.97397527 0.97589461 0.9779054  0.98       0.98217047\n",
      " 0.98440857 0.98670581 0.98905348 0.99144268 0.99386433 0.99630927\n",
      " 0.9987682  1.0012318  1.00369073 1.00613567 1.00855732 1.01094652\n",
      " 1.01329419 1.01559143 1.01782953 1.03992413 1.03969682 1.03931892\n",
      " 1.03879188 1.03811768 1.03729889 1.03633861 1.03524049 1.03400869\n",
      " 1.03264788 1.03116322 1.02956036 1.02784536 1.02602473 1.02410539\n",
      " 1.0220946  1.02      ]\n"
     ]
    }
   ],
   "source": [
    "import numpy as np\n",
    "N=50\n",
    "\n",
    "mat = np.zeros((N,N))\n",
    "for i in range(N-1):\n",
    "    mat[i, i+1] = 1\n",
    "    mat[i+1, i] = 1\n",
    "\n",
    "print(mat)\n",
    "print(np.linalg.eig(mat)[0])\n",
    "\n",
    "def normalize(sigma):\n",
    "    dim = sigma.shape[0]\n",
    "    # Impose PD and mean of eigenvalues equal 1\n",
    "\n",
    "    # Forces all diagonal elements to be the same\n",
    "    # That's the easiest way to ensure all ev > 0...\n",
    "    sigma -= np.diag(np.diag(sigma))\n",
    "    sigma += np.diag([dim for _ in range(dim)])\n",
    "\n",
    "    sigma *= dim / np.sum(np.linalg.eig(sigma)[0])\n",
    "    assert np.all(np.linalg.eig(sigma)[0] > 0.)\n",
    "    assert np.abs(np.sum(np.linalg.eig(sigma)[0]) - dim) < 0.05\n",
    "\n",
    "    return sigma\n",
    "\n",
    "mat2 = normalize(mat)\n",
    "print(mat2)\n",
    "print(np.linalg.eig(mat2)[0])"
   ]
  },
  {
   "cell_type": "code",
   "execution_count": null,
   "metadata": {},
   "outputs": [],
   "source": []
  }
 ],
 "metadata": {
  "kernelspec": {
   "display_name": "Python [conda env:env_oct_18]",
   "language": "python",
   "name": "conda-env-env_oct_18-py"
  },
  "language_info": {
   "codemirror_mode": {
    "name": "ipython",
    "version": 3
   },
   "file_extension": ".py",
   "mimetype": "text/x-python",
   "name": "python",
   "nbconvert_exporter": "python",
   "pygments_lexer": "ipython3",
   "version": "3.6.4"
  }
 },
 "nbformat": 4,
 "nbformat_minor": 2
}
