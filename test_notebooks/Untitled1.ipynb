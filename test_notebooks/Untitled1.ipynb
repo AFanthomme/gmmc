{
 "cells": [
  {
   "cell_type": "code",
   "execution_count": 15,
   "metadata": {},
   "outputs": [],
   "source": [
    "def recursive_flatten(deep_dict, flat_dict={}, prefix=''):\n",
    "    for key, value in deep_dict.items():\n",
    "        if isinstance(value, dict):\n",
    "            flat_dict = recursive_flatten(value, flat_dict, prefix + key + '/')\n",
    "            prefix = '/'.join(prefix.split('/')[:-1]) \n",
    "        else:\n",
    "            flat_dict[prefix + key] = value\n",
    "    return flat_dict"
   ]
  },
  {
   "cell_type": "code",
   "execution_count": 18,
   "metadata": {},
   "outputs": [],
   "source": [
    "test = {'a' : 0, 'dict1': {'a_1' : 1, 'a_2' : 2, 'subdict_1': {'a__1': 3}, 'a_3':4}, 'dict2': {'b':{'c' :3}, 'd': 5}}"
   ]
  },
  {
   "cell_type": "code",
   "execution_count": 19,
   "metadata": {},
   "outputs": [
    {
     "name": "stdout",
     "output_type": "stream",
     "text": [
      "{'a': 0, 'dict1/a_1': 1, 'dict1/a_2': 2, 'dict1/subdict_1/a__1': 3, 'dict2/b/c': 3, 'dict2d': 5, 'dict1a_3': 4}\n"
     ]
    }
   ],
   "source": [
    "print(recursive_flatten(test))"
   ]
  },
  {
   "cell_type": "code",
   "execution_count": 5,
   "metadata": {},
   "outputs": [
    {
     "data": {
      "text/plain": [
       "'0/1/2'"
      ]
     },
     "execution_count": 5,
     "metadata": {},
     "output_type": "execute_result"
    }
   ],
   "source": [
    "'/'.join(['0', '1', '2'])"
   ]
  },
  {
   "cell_type": "code",
   "execution_count": 6,
   "metadata": {},
   "outputs": [
    {
     "data": {
      "text/plain": [
       "''"
      ]
     },
     "execution_count": 6,
     "metadata": {},
     "output_type": "execute_result"
    }
   ],
   "source": [
    "'/'.join([])"
   ]
  },
  {
   "cell_type": "code",
   "execution_count": 8,
   "metadata": {},
   "outputs": [
    {
     "data": {
      "text/plain": [
       "['d1', 'p', '']"
      ]
     },
     "execution_count": 8,
     "metadata": {},
     "output_type": "execute_result"
    }
   ],
   "source": [
    "'d1/p/'.split('/')"
   ]
  },
  {
   "cell_type": "code",
   "execution_count": 20,
   "metadata": {},
   "outputs": [],
   "source": [
    "import flatdict"
   ]
  },
  {
   "cell_type": "code",
   "execution_count": 24,
   "metadata": {},
   "outputs": [
    {
     "name": "stdout",
     "output_type": "stream",
     "text": [
      "{'a': '0', 'dict1/a_1': '1', 'dict1/a_2': '2', 'dict1/a_3': '4', 'dict1/subdict_1/a__1': '3', 'dict2/b/c': '3', 'dict2/d': '5'}\n",
      "{'a': 0, 'dict1': {'a_1': 1, 'a_2': 2, 'a_3': 4, 'subdict_1': {'a__1': 3}}, 'dict2': {'b': {'c': 3}, 'd': 5}}\n"
     ]
    }
   ],
   "source": [
    "flat = flatdict.FlatDict(test, delimiter='/')\n",
    "print(flat)\n",
    "flat= flat.as_dict()\n",
    "print(flat)"
   ]
  },
  {
   "cell_type": "code",
   "execution_count": null,
   "metadata": {},
   "outputs": [],
   "source": []
  }
 ],
 "metadata": {
  "kernelspec": {
   "display_name": "Python [conda env:env_oct_18]",
   "language": "python",
   "name": "conda-env-env_oct_18-py"
  },
  "language_info": {
   "codemirror_mode": {
    "name": "ipython",
    "version": 3
   },
   "file_extension": ".py",
   "mimetype": "text/x-python",
   "name": "python",
   "nbconvert_exporter": "python",
   "pygments_lexer": "ipython3",
   "version": "3.6.4"
  }
 },
 "nbformat": 4,
 "nbformat_minor": 2
}
