{
 "cells": [
  {
   "cell_type": "code",
   "execution_count": 1,
   "metadata": {},
   "outputs": [
    {
     "name": "stdout",
     "output_type": "stream",
     "text": [
      "Current index table :                  alpha  beta beta_normalized gamma n_neurons n_samples  \\\n",
      "04703120a401c0df    10  2500               1     0        50       500   \n",
      "16a3691dc787dc40   100  2500               1    40        50       500   \n",
      "1a6d744921e6d990  1000  2500               1    40        50       500   \n",
      "1c3fab45577185af     1  2500               1    40        50       500   \n",
      "4d750eac11233d0e    10  2500               1    10        50       500   \n",
      "4f50cd188d8ed3f3    10  2500               1   100        50       500   \n",
      "51fa63eedf5712ea    10  2500               1  1000        50       500   \n",
      "6d2a3f0d2afeb11f     3  2500               1    40        50       500   \n",
      "750bd4077fd03f5a    10  2500               1   100        50       500   \n",
      "8210e25caf0e5e64   0.1  2500               1    40        50       500   \n",
      "9a7a75d153257fb2    10  2500               1     0        50       500   \n",
      "b58818dc2221563b    10  2500               1     3        50       500   \n",
      "\n",
      "                 n_seeds n_threads silent   t_max test_every which_C  \n",
      "04703120a401c0df       8         8  False   40000        100    null  \n",
      "16a3691dc787dc40       8         8  False  100000        100    null  \n",
      "1a6d744921e6d990       8         8  False  100000        100    null  \n",
      "1c3fab45577185af       8         8  False  100000        100    null  \n",
      "4d750eac11233d0e       8         8  False  200000        100    null  \n",
      "4f50cd188d8ed3f3       8         8  False   40000        100    null  \n",
      "51fa63eedf5712ea       8         8  False  200000        100    null  \n",
      "6d2a3f0d2afeb11f       8         8  False  100000        100    null  \n",
      "750bd4077fd03f5a       8         8  False  200000        100    null  \n",
      "8210e25caf0e5e64       8         8  False  100000        100    null  \n",
      "9a7a75d153257fb2       8         8  False  200000        100    null  \n",
      "b58818dc2221563b       8         8  False   40000        100    null  \n",
      "Treating folder 1a6d744921e6d990\n",
      "0.13056181371212006 -0.13235142827033997 1.001855461295559 1.001855461295559 1.0503572411835195e-09\n",
      "0.13119523227214813 -0.1341857612133026 1.0019920496488883 1.0019920496488883 -1.4080433174967767e-09\n",
      "0.3399285674095154 -0.33974727988243103 1.0062438899671489 1.0062438899671489 -3.332388587296009e-09\n",
      "0.06916557252407074 -0.0681711733341217 1.0011766555486312 1.0011766555486312 5.506444722414017e-10\n",
      "0.07057255506515503 -0.07122102379798889 1.00136204424557 1.00136204424557 -3.891182132065296e-10\n",
      "0.07352608442306519 -0.07575240731239319 1.0010567408806947 1.0010567408806947 -2.3283064365386964e-11\n",
      "0.11822299659252167 -0.11001764237880707 1.0019262437085004 1.0019262437085004 -1.9865183276124297e-09\n",
      "0.08353570103645325 -0.08065566420555115 1.001349050538054 1.001349050538054 7.945345714688301e-10\n",
      "0.10019203275442123 -0.10351349413394928 1.0015828592442062 1.0015828592442062 -2.90601747110486e-10\n",
      "1.134206889565899 0.871293647583439 1.001855460245202\n",
      "1.136177810862191 0.8707968173767402 1.0019920510569316\n",
      "1.34599116984958 0.6663153225576335 1.0062438932995375\n",
      "1.069347828882753 0.9320110830245605 1.0011766549979868\n",
      "1.0725830680435589 0.9307894891804149 1.0013620446346883\n",
      "1.076809148193088 0.9275306564576296 1.0010567409039777\n",
      "1.1119438860873074 0.8837032471159787 1.0019262456950189\n",
      "1.0820047147436052 0.9178133495016008 1.0013490497435193\n",
      "1.1050963533781555 0.901390826489785 1.0015828595348082\n",
      "Treating folder 16a3691dc787dc40\n",
      "0.1523851603269577 -0.1646714061498642 1.0070725179601396 1.0070725179601396 -1.1234078556299209e-10\n",
      "0.1816307008266449 -0.170403391122818 1.007561271810376 1.007561271810376 3.6091660149395467e-09\n",
      "0.1563110202550888 -0.15914009511470795 1.0070790801971308 1.0070790801971308 -8.381903171539307e-10\n",
      "0.15793907642364502 -0.17744183540344238 1.0073364484934968 1.0073364484934968 1.2177042663097383e-09\n",
      "0.1479739248752594 -0.1565902680158615 1.0068188338141355 1.0068188338141355 -1.1082738637924194e-09\n",
      "0.1476626843214035 -0.15361711382865906 1.0067381312217063 1.0067381312217063 1.128646545112133e-09\n",
      "0.17949040234088898 -0.17493054270744324 1.0077460680089252 1.0077460680089252 3.521563485264778e-09\n",
      "0.15030086040496826 -0.1617889404296875 1.0068257672140533 1.0068257672140533 1.4819670468568802e-09\n",
      "0.1511346846818924 -0.16037851572036743 1.0068356441010253 1.0068356441010253 -1.78581103682518e-09\n",
      "1.1717439241100038 0.8546873576331819 1.0070725180724804\n",
      "1.177964662933194 0.825930570983731 1.0075612682012098\n",
      "1.1662191753118387 0.850768059942042 1.007079081035321\n",
      "1.1847782838969392 0.8493973720698518 1.0073364472757926\n",
      "1.163409101829997 0.8588449089388761 1.0068188349224092\n",
      "1.1603552450503654 0.8590754469003028 1.0067381300930598\n",
      "1.1826766107163684 0.8282556656680362 1.007746064487362\n",
      "1.1686147076437408 0.856524906809085 1.0068257657320863\n",
      "1.1672141598213928 0.8557009594191329 1.0068356458868364\n",
      "Treating folder 04703120a401c0df\n",
      "0.5609405636787415 -0.7116134166717529 1.1048391499631542 1.1048391499631542 -1.2889504432678223e-08\n",
      "0.5821506381034851 -0.6920625567436218 1.1075192311198037 1.1075192311198037 7.823109626770019e-10\n",
      "0.5559918284416199 -0.685072660446167 1.106038316977618 1.106038316977618 -1.0244548320770264e-08\n",
      "0.5647355318069458 -0.7155780792236328 1.1077761149155956 1.1077761149155956 4.284083843231201e-09\n",
      "0.5623465776443481 -0.7044231295585632 1.1078651808393585 1.1078651808393585 -2.598389983177185e-09\n",
      "0.5727511048316956 -0.7162098288536072 1.1081741505075304 1.1081741505075304 3.166496753692627e-10\n",
      "0.5893489122390747 -0.6828590631484985 1.1088826095261521 1.1088826095261521 -1.1734664440155029e-08\n",
      "0.5707554817199707 -0.7007840871810913 1.107271167024919 1.107271167024919 -1.2377277016639709e-08\n",
      "0.5633761286735535 -0.7004784345626831 1.1055310407395453 1.1055310407395453 -7.944181561470031e-09\n",
      "1.8164525666349072 0.5438985862844128 1.1048391628526586\n",
      "1.7995817878634255 0.5253685930163186 1.1075192303374928\n",
      "1.791110977423785 0.5500464885359981 1.1060383272221663\n",
      "1.8233541941392284 0.5430405831086498 1.1077761106315116\n",
      "1.8122883103979217 0.5455186031950103 1.1078651834377484\n",
      "1.8243839793611376 0.5354230456758349 1.1081741501908806\n",
      "1.7917416726746507 0.5195336972870774 1.1088826212608165\n",
      "1.8080552542060102 0.5365156853049482 1.107271179402196\n",
      "1.8060094753022284 0.5421549120659919 1.1055310486837266\n",
      "Treating folder 4d750eac11233d0e\n",
      "0.3917742073535919 -0.4565739035606384 1.0534072683609286 1.0534072683609286 5.168840289115906e-09\n",
      "0.423855185508728 -0.4504610598087311 1.0539688541938255 1.0539688541938255 1.5245750546455384e-08\n",
      "0.3980180621147156 -0.4419431984424591 1.0528363600673247 1.0528363600673247 -1.1175870895385742e-09\n",
      "0.392998069524765 -0.4493739902973175 1.053474860737539 1.053474860737539 -7.869675755500793e-09\n",
      "0.3895165026187897 -0.46600666642189026 1.0521965844435832 1.0521965844435832 -1.6493722796440125e-08\n",
      "0.39537665247917175 -0.4635124206542969 1.0523831652792384 1.0523831652792384 1.6391277313232422e-09\n",
      "0.3946765661239624 -0.4679245054721832 1.0523205493910681 1.0523205493910681 -9.872019290924073e-10\n",
      "0.38703620433807373 -0.45525506138801575 1.0517441757657717 1.0517441757657717 3.4365803003311157e-09\n",
      "0.3876740336418152 -0.4510926306247711 1.052103345695623 1.052103345695623 1.890584826469421e-09\n",
      "1.509981171921567 0.6616330610073367 1.053407263192088\n",
      "1.5044299140025565 0.6301136686850974 1.0539688389480748\n",
      "1.4947795585097838 0.6548182979526092 1.0528363611849116\n",
      "1.5028488510348565 0.660476791212774 1.0534748686072148\n",
      "1.5182032508654735 0.6626800818247935 1.0521966009373063\n",
      "1.5158955859335352 0.6570065128000666 1.0523831636401106\n",
      "1.5202450548632513 0.6576439832671057 1.05232055037827\n",
      "1.5069992371537875 0.664707971427698 1.0517441723291914\n",
      "1.5031959763203941 0.6644293120538078 1.052103343805038\n",
      "Treating folder 6d2a3f0d2afeb11f\n",
      "0.2920082211494446 -0.2954983115196228 1.0231600639388534 1.0231600639388534 -2.845190465450287e-09\n",
      "0.29324764013290405 -0.281622052192688 1.023486826896316 1.023486826896316 -7.078051567077637e-10\n",
      "0.2929357886314392 -0.27865350246429443 1.0229479739027885 1.0229479739027885 6.007030606269837e-09\n",
      "0.29604965448379517 -0.28109031915664673 1.0235498587385747 1.0235498587385747 6.112968549132347e-09\n",
      "0.36683130264282227 -0.37562471628189087 1.026092151391707 1.026092151391707 -5.867332220077515e-10\n",
      "0.2985837459564209 -0.2757040858268738 1.023111328500809 1.023111328500809 1.816079020500183e-09\n",
      "0.2968577444553375 -0.2856849133968353 1.0233979835351739 1.0233979835351739 -2.78581865131855e-09\n",
      "0.36847248673439026 -0.34149688482284546 1.0271658338909448 1.0271658338909448 -3.555323928594589e-09\n",
      "0.28898876905441284 -0.2744497060775757 1.0237344041936178 1.0237344041936178 1.2759119272232057e-09\n",
      "1.3186583754584762 0.7311518427894088 1.0231600667840437\n",
      "1.305108879089004 0.7302391867634119 1.0234868276041211\n",
      "1.301601476367083 0.7300121852713493 1.0229479678957576\n",
      "1.3046401778952215 0.7275002042547796 1.0235498526256062\n",
      "1.4017168676735978 0.6592608487488847 1.02609215197844\n",
      "1.2988154143276829 0.7245275825443882 1.02311132668473\n",
      "1.3090828969320092 0.7265402390798363 1.0233979863209928\n",
      "1.3686627187137903 0.6586933471565546 1.0271658374462689\n",
      "1.2981841102711935 0.734745635139205 1.023734402917706\n"
     ]
    },
    {
     "name": "stdout",
     "output_type": "stream",
     "text": [
      "Treating folder 750bd4077fd03f5a\n",
      "0.16937924921512604 -0.17757831513881683 1.0087449351805668 1.0087449351805668 -2.2817403078079225e-09\n",
      "0.1728069931268692 -0.17936551570892334 1.0087394348160539 1.0087394348160539 -7.1339309215545656e-09\n",
      "0.17383761703968048 -0.17532438039779663 1.0087943754865123 1.0087943754865123 3.1988020054996013e-09\n",
      "0.17528073489665985 -0.17886820435523987 1.0089020307931769 1.0089020307931769 7.729977369308471e-10\n",
      "0.2007114142179489 -0.20955036580562592 1.0099697741134783 1.0099697741134783 3.960449248552323e-09\n",
      "0.2147495150566101 -0.23092922568321228 1.0099504742410046 1.0099504742410046 4.633329808712005e-09\n",
      "0.2520809769630432 -0.2616131603717804 1.0108023335272294 1.0108023335272294 2.3585744202136995e-09\n",
      "0.2750253677368164 -0.28554826974868774 1.011461200191829 1.011461200191829 1.3899989426136016e-09\n",
      "0.20492970943450928 -0.18380394577980042 1.0095760252939643 1.0095760252939643 2.4226028472185133e-09\n",
      "1.1863232503193837 0.8393656859654408 1.0087449374623072\n",
      "1.1881049505249772 0.8359324416891847 1.0087394419499849\n",
      "1.184118755884309 0.8349567584468318 1.0087943722877102\n",
      "1.1877702351484167 0.833621295896517 1.0089020300201792\n",
      "1.2195201399191042 0.8092583598955294 1.009969770153029\n",
      "1.2408796999242169 0.7952009591843945 1.0099504696076747\n",
      "1.2724154938990098 0.7587213565641862 1.010802331168655\n",
      "1.2970094699405168 0.7364358324550127 1.0114611988018303\n",
      "1.1933799710737647 0.804646315859455 1.0095760228713615\n",
      "Treating folder 51fa63eedf5712ea\n",
      "0.16340793669223785 -0.16312913596630096 1.0021749205241333 1.0021749205241333 -4.190951585769653e-11\n",
      "0.15480899810791016 -0.1567525714635849 1.001850909556443 1.001850909556443 -3.0500814318656923e-10\n",
      "0.1456323117017746 -0.14599604904651642 1.0019064926265384 1.0019064926265384 -3.8649886846542357e-10\n",
      "0.07660083472728729 -0.07631862908601761 1.0011075155587839 1.0011075155587839 -5.855690687894821e-10\n",
      "0.07063765823841095 -0.06880843639373779 1.0009600584219251 1.0009600584219251 0.0\n",
      "0.1418192982673645 -0.14141845703125 1.001519657576631 1.001519657576631 1.2450618669390679e-09\n",
      "0.06106846407055855 -0.06769043952226639 1.0009248860720439 1.0009248860720439 -1.230509951710701e-09\n",
      "0.11444654315710068 -0.11368978023529053 1.0013914761859495 1.0013914761859495 -7.55535438656807e-10\n",
      "0.07985246181488037 -0.07153305411338806 1.0012562878991367 1.0012562878991367 3.451714292168617e-10\n",
      "1.1653040564904342 0.8387669838318954 1.0021749205660428\n",
      "1.1586034810200279 0.8470419114485328 1.0018509098614512\n",
      "1.1479025416730548 0.8562741809247638 1.0019064930130375\n",
      "1.0774261446448015 0.9245066808314966 1.0011075161443532\n",
      "1.069768494815663 0.9303224001835142 1.0009600584219251\n",
      "1.142938114607881 0.8597003593092665 1.0015196563315691\n",
      "1.0686153255943103 0.9398564220014853 1.0009248873025536\n",
      "1.11508125642124 0.8869449330288488 1.001391476941485\n",
      "1.0727893420125247 0.9214038260842563 1.0012562875539655\n",
      "Treating folder 1c3fab45577185af\n",
      "0.34068551659584045 -0.3668520450592041 1.025810185287878 1.025810185287878 8.437782526016236e-09\n",
      "0.2925589680671692 -0.2966090738773346 1.0235025749287507 1.0235025749287507 -3.3620744943618773e-09\n",
      "0.3046795129776001 -0.2771276533603668 1.0237477526332508 1.0237477526332508 5.527399480342865e-09\n",
      "0.3264119029045105 -0.35318291187286377 1.0255993266551708 1.0255993266551708 -4.984904080629349e-09\n",
      "0.28989362716674805 -0.28735727071762085 1.0228214923605758 1.0228214923605758 -5.755573511123657e-09\n",
      "0.27951639890670776 -0.2795562744140625 1.0228353230692693 1.0228353230692693 -5.285255610942841e-10\n",
      "0.27680304646492004 -0.29949310421943665 1.0235051988438855 1.0235051988438855 -1.043081283569336e-09\n",
      "0.2693333625793457 -0.27904391288757324 1.0227835980122932 1.0227835980122932 -6.612390279769897e-10\n",
      "0.2835753858089447 -0.286044716835022 1.023529712738115 1.023529712738115 7.781200110912323e-09\n",
      "1.3926622303470821 0.6851246686920376 1.0258101768500958\n",
      "1.3201116488060853 0.7309436068615816 1.0235025782908251\n",
      "1.3008754059936176 0.7190682396556507 1.0237477471058514\n",
      "1.3787822385280346 0.6991874237506603 1.0255993316400749\n",
      "1.3101787630781967 0.7329278651938278 1.0228214981161494\n",
      "1.3023915974833318 0.7433189241625615 1.022835323597795\n",
      "1.3229983030633221 0.7467021523789654 1.0235051998869666\n",
      "1.3018275108998665 0.7534502354329475 1.0227835986735325\n",
      "1.309574429573137 0.7399543269291704 1.0235297049569152\n",
      "Treating folder 9a7a75d153257fb2\n",
      "0.5382818579673767 -0.7582301497459412 1.1021247961379177 1.1021247961379177 1.2479722499847413e-09\n",
      "0.5488508939743042 -0.794377863407135 1.105051944023512 1.105051944023512 8.009374141693115e-09\n",
      "0.5375921726226807 -0.7725807428359985 1.1029740014786944 1.1029740014786944 8.828938007354737e-09\n",
      "0.5343818068504333 -0.7626111507415771 1.1022705563917214 1.1022705563917214 -1.236097887158394e-08\n",
      "0.5316113233566284 -0.7589723467826843 1.101167644198271 1.101167644198271 9.87667590379715e-09\n",
      "0.5216286778450012 -0.7483710050582886 1.1004185117860055 1.1004185117860055 2.6798807084560393e-08\n",
      "0.5238714218139648 -0.7153497338294983 1.1001736892122818 1.1001736892122818 3.743916749954223e-09\n",
      "0.532138466835022 -0.7093157172203064 1.0999838901108283 1.0999838901108283 -1.8619903130456805e-09\n",
      "0.5452309846878052 -0.7237808704376221 1.100025248654604 1.100025248654604 7.897615432739258e-09\n",
      "1.8603549458838589 0.563842938170541 1.1021247948899455\n",
      "1.899429807430647 0.5562010500492078 1.105051936014138\n",
      "1.875554744314693 0.5653818288560137 1.1029739926497562\n",
      "1.8648817071332986 0.5678887495412881 1.1022705687527001\n",
      "1.8601399909809553 0.5695563208416425 1.101167634321595\n",
      "1.848789516844294 0.5787898339410043 1.100418484987198\n",
      "1.81552342304178 0.5763022673983169 1.100173685468365\n",
      "1.8092996073311347 0.5678454232758063 1.0999838919728187\n",
      "1.8238061190922261 0.5547942639667989 1.1000252407569886\n",
      "Treating folder 8210e25caf0e5e64\n",
      "0.30224838852882385 -0.2769891321659088 1.023914772810673 1.023914772810673 -9.96515154838562e-10\n",
      "0.30283698439598083 -0.285739928483963 1.0245774909407108 1.0245774909407108 -4.962203092873097e-10\n",
      "0.3019763231277466 -0.3135223984718323 1.0254095285635036 1.0254095285635036 3.4039840102195738e-09\n",
      "0.6926506161689758 -0.6953637003898621 1.051240988605947 1.051240988605947 -9.131617844104767e-09\n",
      "0.31083616614341736 -0.28860145807266235 1.02444774756917 1.02444774756917 2.7008354663848875e-10\n",
      "0.3040584325790405 -0.28930413722991943 1.024614639035743 1.024614639035743 3.124005161225796e-09\n",
      "0.31092700362205505 -0.31599485874176025 1.026098215358288 1.026098215358288 3.1478703022003173e-09\n",
      "0.2966969609260559 -0.2909958064556122 1.0245001969507377 1.0245001969507377 -5.4761767387390136e-09\n",
      "0.29573774337768555 -0.2928374111652374 1.0241005017158755 1.0241005017158755 4.4284388422966e-09\n",
      "1.3009039049765818 0.7216663842818491 1.0239147738071879\n",
      "1.3103174194246738 0.72174050654473 1.024577491436931\n",
      "1.338931927035336 0.7234332054357571 1.0254095251595197\n",
      "1.7466046889958091 0.3585903724369712 1.051240997737565\n",
      "1.3130492056418324 0.7136115814257527 1.0244477472990863\n",
      "1.3139187762656623 0.7205562064567024 1.0246146359117376\n",
      "1.3420930741000483 0.715171211736233 1.0260982122104176\n",
      "1.3154960034063499 0.7278032360246818 1.0245002024269148\n",
      "1.316937912881113 0.72836275833819 1.0241004972874368\n",
      "Treating folder b58818dc2221563b\n",
      "0.48059165477752686 -0.5859214663505554 1.0776268927259747 1.0776268927259747 -1.251697540283203e-08\n",
      "0.49580344557762146 -0.5977497696876526 1.077185452446556 1.077185452446556 0.0\n",
      "0.492221474647522 -0.5783019661903381 1.078495342000485 1.078495342000485 9.052455425262452e-09\n",
      "0.4977608323097229 -0.5688461661338806 1.0799870220384824 1.0799870220384824 1.330394297838211e-08\n",
      "0.5379612445831299 -0.6376409530639648 1.0837153866086016 1.0837153866086016 -1.993030309677124e-09\n",
      "0.5133311748504639 -0.555403470993042 1.0798500430718487 1.0798500430718487 -4.917383193969727e-09\n",
      "0.49795466661453247 -0.5687252879142761 1.0775926889166898 1.0775926889166898 -8.419156074523925e-09\n",
      "0.49139562249183655 -0.5575534105300903 1.0769164236271462 1.0769164236271462 8.00006091594696e-09\n",
      "0.4830520749092102 -0.5742031931877136 1.0757113761793162 1.0757113761793162 4.0046870708465575e-09\n",
      "1.66354835907653 0.5970352379484478 1.07762690524295\n",
      "1.6749352221342086 0.5813820068689346 1.077185452446556\n",
      "1.6567973081908232 0.586273867352963 1.0784953329480296\n",
      "1.648833188172363 0.5822261897287595 1.0799870087345393\n",
      "1.7213563396725664 0.5457541420254717 1.083715388601632\n",
      "1.6352535140648907 0.5665188682213849 1.079850047989232\n",
      "1.646317976830966 0.5796380223021573 1.0775926973358458\n",
      "1.6344698341572366 0.5855208011353097 1.0769164156270854\n",
      "1.6499145693670298 0.592659301270106 1.075711372174629\n"
     ]
    },
    {
     "name": "stdout",
     "output_type": "stream",
     "text": [
      "Treating folder 4f50cd188d8ed3f3\n",
      "0.25665318965911865 -0.2571261525154114 1.0111829675837272 1.0111829675837272 8.291099220514297e-09\n",
      "0.1893644630908966 -0.1900341510772705 1.0097003971032181 1.0097003971032181 6.752088665962219e-10\n",
      "0.20607544481754303 -0.21009211242198944 1.0104572223757164 1.0104572223757164 1.585576683282852e-09\n",
      "0.18180052936077118 -0.18335261940956116 1.0093440618732432 1.0093440618732432 -1.3760291039943695e-09\n",
      "0.19004639983177185 -0.1932922899723053 1.0096898822490181 1.0096898822490181 1.3783574104309082e-09\n",
      "0.2050211876630783 -0.20315004885196686 1.0100638555807024 1.0100638555807024 -1.066364347934723e-09\n",
      "0.19565393030643463 -0.1935943365097046 1.0097543719590922 1.0097543719590922 -2.835877239704132e-09\n",
      "0.26872342824935913 -0.242046058177948 1.011173429957622 1.011173429957622 -1.8812716007232666e-09\n",
      "0.25818145275115967 -0.25339236855506897 1.0114542889125218 1.0114542889125218 -1.5739351511001586e-09\n",
      "1.2683091200991385 0.7545297779246085 1.0111829592926278\n",
      "1.1997345481804886 0.8203359340123215 1.0097003964280094\n",
      "1.2205493347977059 0.8043817775581734 1.0104572207901397\n",
      "1.1926966812828044 0.827543532512472 1.0093440632492723\n",
      "1.2029821722213234 0.8196434824172463 1.009689880870661\n",
      "1.2132139044326693 0.8050426679176241 1.0100638566470668\n",
      "1.2033487084687968 0.8141004416526576 1.0097543747949693\n",
      "1.25321948813557 0.7424500017082629 1.0111734318388936\n",
      "1.2648466574675907 0.7532728361613621 1.0114542904864572\n"
     ]
    }
   ],
   "source": [
    "import numpy as np\n",
    "import os\n",
    "\n",
    "import numpy as np\n",
    "import matplotlib.pyplot as plt\n",
    "import pandas as pd\n",
    "import os\n",
    "import json\n",
    "\n",
    "def get_immediate_subdirectories(a_dir):\n",
    "    return [name for name in os.listdir(a_dir) if os.path.isdir(os.path.join(a_dir, name))]\n",
    "\n",
    "_DEBUG = True\n",
    "\n",
    "def make_index():\n",
    "    # Explore the raw folder and build a pandas frame with relevant run informations\n",
    "    hashes = get_immediate_subdirectories('raw')\n",
    "    all_keys = set()\n",
    "    dict_of_dicts = {}\n",
    "\n",
    "    for hash in hashes:\n",
    "        with open('raw/{}/params'.format(hash), 'r') as outfile:\n",
    "            params = json.load(outfile)\n",
    "        dict_of_dicts[hash] = params\n",
    "\n",
    "    database = pd.DataFrame.from_dict(dict_of_dicts).transpose()\n",
    "    database.to_pickle('raw/parameters_database.pkl')\n",
    "    database.to_string(open('raw/parameters_database_human_readable.txt', mode='w+'))\n",
    "    database.to_csv(open('raw/parameters_database.csv', mode='w+'))\n",
    "    print('Current index table : {}'.format(database))\n",
    "\n",
    "def check_integrity(folder):\n",
    "    try:\n",
    "        with open('{}/exited_naturally'.format(folder), 'r') as f:\n",
    "            pass\n",
    "    except FileNotFoundError:\n",
    "        print('Folder {} did not exit naturally, skip it'.format(folder))\n",
    "\n",
    "\n",
    "def make_average_energy(folder):\n",
    "    check_integrity(folder)\n",
    "\n",
    "    with open('{}/params'.format(folder), 'r') as outfile:\n",
    "        dict = json.load(outfile)\n",
    "        n_seeds = dict['n_seeds']\n",
    "        t_max = dict['t_max']\n",
    "        test_every = dict['test_every']\n",
    "\n",
    "    train_energy_blob = np.zeros((n_seeds, t_max//test_every+1))\n",
    "    test_energy_blob = np.zeros((n_seeds, t_max // test_every + 1))\n",
    "\n",
    "    for seed in range(n_seeds):\n",
    "        train_energy_blob[seed] = np.load('{}/seed_{}/train_energy_acc.npy'.format(folder, seed))\n",
    "        test_energy_blob[seed] = np.load('{}/seed_{}/test_energy_acc.npy'.format(folder, seed))\n",
    "\n",
    "    train_mean = np.mean(train_energy_blob, axis=0)[1:]\n",
    "    train_std = np.std(train_energy_blob, axis=0)[1:]\n",
    "\n",
    "    test_mean = np.mean(test_energy_blob, axis=0)[1:]\n",
    "    test_std = np.std(test_energy_blob, axis=0)[1:]\n",
    "\n",
    "    np.save('{}/E_train_avg.npy'.format(folder), train_mean)\n",
    "    np.save('{}/E_train_std.npy'.format(folder), train_std)\n",
    "\n",
    "    np.save('{}/E_test_avg.npy'.format(folder), test_mean)\n",
    "    np.save('{}/E_test_std.npy'.format(folder), test_std)\n",
    "\n",
    "\n",
    "    plt.figure()\n",
    "    plt.title(folder.split('/')[-1])\n",
    "    plt.errorbar(np.arange(0, t_max, test_every), train_mean, yerr=train_std, label='Train')\n",
    "    plt.errorbar(np.arange(0, t_max, test_every), test_mean, yerr=test_std, label='Test')\n",
    "    plt.legend()\n",
    "    plt.savefig('{}/energies.png'.format(folder))\n",
    "    plt.close()\n",
    "\n",
    "\n",
    "def make_average_mu(folder):\n",
    "    check_integrity(folder)\n",
    "\n",
    "    with open('{}/params'.format(folder), 'r') as outfile:\n",
    "        dict = json.load(outfile)\n",
    "        n_seeds = dict['n_seeds']\n",
    "        t_max = dict['t_max']\n",
    "        test_every = dict['test_every']\n",
    "\n",
    "    mu_blob = np.zeros((n_seeds, t_max//test_every+1))\n",
    "\n",
    "\n",
    "    for seed in range(n_seeds):\n",
    "        mu_blob[seed] = np.load('{}/seed_{}/mu_acc.npy'.format(folder, seed))\n",
    "\n",
    "\n",
    "    mu_mean = np.mean(mu_blob, axis=0)[1:]\n",
    "    mu_std = np.std(mu_blob, axis=0)[1:]\n",
    "\n",
    "    np.save('{}/mu_avg.npy'.format(folder), mu_mean)\n",
    "    np.save('{}/mu_std.npy'.format(folder), mu_std)\n",
    "\n",
    "    plt.figure()\n",
    "    plt.title(folder.split('/')[-1])\n",
    "    plt.errorbar(np.arange(0, t_max, test_every), mu_mean, yerr=mu_std)\n",
    "    plt.savefig('{}/mus.png'.format(folder))\n",
    "    plt.close()\n",
    "\n",
    "\n",
    "\n",
    "def make_eigenvalues_diffmap(folder):\n",
    "    check_integrity(folder)\n",
    "\n",
    "    with open('{}/params'.format(folder), 'r') as outfile:\n",
    "        dict = json.load(outfile)\n",
    "        N = dict['n_neurons']\n",
    "        n_seeds = dict['n_seeds']\n",
    "        t_max = dict['t_max']\n",
    "        test_every = dict['test_every']\n",
    "\n",
    "    eigenvalues_blob = np.zeros((t_max // test_every + 1, N, n_seeds))\n",
    "    mu_blob = np.zeros((t_max // test_every + 1, N, n_seeds))\n",
    "    for seed in range(n_seeds):\n",
    "        eigenvalues_blob[:, :, seed] = np.load('{}/seed_{}/eigenvalues_acc.npy'.format(folder, seed))\n",
    "        mu_blob[:, :, seed] = np.repeat(np.load('{}/seed_{}/mu_acc.npy'.format(folder, seed)).reshape(-1, 1), N, axis=1)\n",
    "\n",
    "\n",
    "    if _DEBUG:\n",
    "        for t in range(1, 10):\n",
    "            print(eigenvalues_blob[-t, :, 0].max().item(), eigenvalues_blob[-t, :, 0].min().item(), mu_blob[-t, 0, 0], mu_blob[-t, -1, 0], eigenvalues_blob[-t, :, 0].mean().item())\n",
    "\n",
    "    eigenvalues_blob = mu_blob - eigenvalues_blob\n",
    "\n",
    "    if _DEBUG:\n",
    "        for t in range(1, 10):\n",
    "            print(eigenvalues_blob[-t, :, 0].max().item(), eigenvalues_blob[-t, :, 0].min().item(), eigenvalues_blob[-t, :, 0].mean().item())\n",
    "\n",
    "\n",
    "    # Make a \"diffusion map\" for the eigenvalues\n",
    "    n_bins = 1000\n",
    "    grouping = 10\n",
    "    v_min, v_max = -5., 5.\n",
    "\n",
    "    mixed_evs = np.clip(eigenvalues_blob.reshape(eigenvalues_blob.shape[0], -1), v_min, v_max)\n",
    "    # print(np.min(mixed_evs), np.max(mixed_evs))\n",
    "    # print(np.sum(mixed_evs == 0), np.sum(mixed_evs == 1.5))\n",
    "    bounds = [v_min, v_max]\n",
    "    diff_map = np.zeros((eigenvalues_blob.shape[0] // grouping +1, n_bins))\n",
    "\n",
    "    for t in range(eigenvalues_blob.shape[0]):\n",
    "        for ev in mixed_evs[t]:\n",
    "            diff_map[t // grouping, int((n_bins-1) * (ev-bounds[0]) / (bounds[1] - bounds[0]))] += 1.\n",
    "\n",
    "    for t in range(diff_map.shape[0]):\n",
    "        diff_map[t] /= np.sum(diff_map[t])\n",
    "\n",
    "    plt.figure()\n",
    "    plt.imshow(diff_map[-100:].T, origin='lower', extent=[0, t_max, bounds[0], bounds[1]], aspect='auto')\n",
    "    plt.title(folder.split('/')[-1])\n",
    "    plt.savefig('{}/eigenvalues_diffmap.png'.format(folder))\n",
    "    plt.close()\n",
    "\n",
    "\n",
    "\n",
    "def parse_individual_subfolder(subfolder):\n",
    "    # This function only acts as a container for other analysis routines (to keep things readable and modular)\n",
    "\n",
    "    make_average_energy(subfolder)\n",
    "    make_average_mu(subfolder)\n",
    "    make_eigenvalues_diffmap(subfolder)\n",
    "\n",
    "\n",
    "\n",
    "def post_run_parsing():\n",
    "    make_index()\n",
    "    exp_dirs = get_immediate_subdirectories('raw')\n",
    "    for exp_dir in exp_dirs:\n",
    "        print('Treating folder {}'.format(exp_dir))\n",
    "        parse_individual_subfolder('raw/' + exp_dir)\n",
    "\n",
    "post_run_parsing()"
   ]
  },
  {
   "cell_type": "code",
   "execution_count": 3,
   "metadata": {},
   "outputs": [
    {
     "name": "stdout",
     "output_type": "stream",
     "text": [
      "To vary parameter alpha in [1.e-01 1.e+00 3.e+00 1.e+02 1.e+03], visit ['8210e25caf0e5e64' '1c3fab45577185af' '6d2a3f0d2afeb11f'\n",
      " '16a3691dc787dc40' '1a6d744921e6d990']\n"
     ]
    }
   ],
   "source": [
    "def get_siblings(ref_hash, traversal_key):\n",
    "    # Take the hash of a reference experiment and return list of hashes such that only 'traversal_key' differs\n",
    "    db = pd.read_pickle('raw/parameters_database.pkl')\n",
    "    all_keys = list(db.keys())\n",
    "    hashes = db.index.values.tolist()\n",
    "    siblings = []\n",
    "    values = []\n",
    "\n",
    "    with open('raw/{}/params'.format(ref_hash), 'r') as outfile:\n",
    "        ref_params = json.load(outfile)\n",
    "\n",
    "    for hash in hashes:\n",
    "        is_sibling = True\n",
    "        with open('raw/{}/params'.format(hash), 'r') as outfile:\n",
    "            params = json.load(outfile)\n",
    "        for key in all_keys:\n",
    "            if params[key] != ref_params[key] and key not in [traversal_key, 't_max', 'n_threads', 'n_seeds', 'test_every']:\n",
    "                is_sibling = False\n",
    "                break\n",
    "        if is_sibling:\n",
    "            siblings.append(hash)\n",
    "            values.append(params[traversal_key])\n",
    "\n",
    "    # Correctly sort the directories in increasing values of the param\n",
    "    sorter = np.argsort(values)\n",
    "\n",
    "    siblings = np.array(siblings)[sorter]\n",
    "    values = np.array(values)[sorter]\n",
    "\n",
    "    print('To vary parameter {} in {}, visit {}'.format(traversal_key, values, siblings))\n",
    "\n",
    "\n",
    "    return siblings, values\n",
    "    \n",
    "hashs, params = get_siblings('8210e25caf0e5e64', 'alpha')"
   ]
  },
  {
   "cell_type": "code",
   "execution_count": 4,
   "metadata": {},
   "outputs": [],
   "source": [
    "import matplotlib.pyplot as plt\n",
    "\n",
    "\n",
    "def theoretical_rho(x):\n",
    "    return np.sqrt(x * (L-x))\n",
    "\n",
    "def theoretical_mu_null_alpha(gamma):\n",
    "    return 0.5 * np.sqrt(gamma) * ((np.sqrt(gamma)**(-1) + np.sqrt(2)) ** 2)"
   ]
  },
  {
   "cell_type": "code",
   "execution_count": 6,
   "metadata": {},
   "outputs": [
    {
     "name": "stdout",
     "output_type": "stream",
     "text": [
      "Treating folder 8210e25caf0e5e64 with alpha = 0.1\n"
     ]
    },
    {
     "data": {
      "image/png": "[encoded data removed]",
      "text/plain": [
       "<Figure size 432x288 with 1 Axes>"
      ]
     },
     "metadata": {
      "needs_background": "light"
     },
     "output_type": "display_data"
    },
    {
     "data": {
      "image/png": "[encoded data removed]",
      "text/plain": [
       "<Figure size 432x288 with 1 Axes>"
      ]
     },
     "metadata": {
      "needs_background": "light"
     },
     "output_type": "display_data"
    },
    {
     "name": "stdout",
     "output_type": "stream",
     "text": [
      "Treating folder 1c3fab45577185af with alpha = 1.0\n"
     ]
    },
    {
     "data": {
      "image/png": "[encoded data removed]",
      "text/plain": [
       "<Figure size 432x288 with 1 Axes>"
      ]
     },
     "metadata": {
      "needs_background": "light"
     },
     "output_type": "display_data"
    },
    {
     "data": {
      "image/png": "[encoded data removed]",
      "text/plain": [
       "<Figure size 432x288 with 1 Axes>"
      ]
     },
     "metadata": {
      "needs_background": "light"
     },
     "output_type": "display_data"
    },
    {
     "name": "stdout",
     "output_type": "stream",
     "text": [
      "Treating folder 6d2a3f0d2afeb11f with alpha = 3.0\n"
     ]
    },
    {
     "data": {
      "image/png": "[encoded data removed]",
      "text/plain": [
       "<Figure size 432x288 with 1 Axes>"
      ]
     },
     "metadata": {
      "needs_background": "light"
     },
     "output_type": "display_data"
    },
    {
     "data": {
      "image/png": "[encoded data removed]",
      "text/plain": [
       "<Figure size 432x288 with 1 Axes>"
      ]
     },
     "metadata": {
      "needs_background": "light"
     },
     "output_type": "display_data"
    },
    {
     "name": "stdout",
     "output_type": "stream",
     "text": [
      "Treating folder 16a3691dc787dc40 with alpha = 100.0\n"
     ]
    },
    {
     "data": {
      "image/png": "[encoded data removed]",
      "text/plain": [
       "<Figure size 432x288 with 1 Axes>"
      ]
     },
     "metadata": {
      "needs_background": "light"
     },
     "output_type": "display_data"
    },
    {
     "data": {
      "image/png": "[encoded data removed]",
      "text/plain": [
       "<Figure size 432x288 with 1 Axes>"
      ]
     },
     "metadata": {
      "needs_background": "light"
     },
     "output_type": "display_data"
    },
    {
     "name": "stdout",
     "output_type": "stream",
     "text": [
      "Treating folder 1a6d744921e6d990 with alpha = 1000.0\n"
     ]
    },
    {
     "data": {
      "image/png": "[encoded data removed]",
      "text/plain": [
       "<Figure size 432x288 with 1 Axes>"
      ]
     },
     "metadata": {
      "needs_background": "light"
     },
     "output_type": "display_data"
    },
    {
     "data": {
      "image/png": "[encoded data removed]",
      "text/plain": [
       "<Figure size 432x288 with 1 Axes>"
      ]
     },
     "metadata": {
      "needs_background": "light"
     },
     "output_type": "display_data"
    }
   ],
   "source": [
    "for path, alpha in zip(hashs, params):\n",
    "    print('Treating folder {} with alpha = {}'.format(path, alpha))\n",
    "    \n",
    "    with open('raw/{}/params'.format(path), 'r') as outfile:\n",
    "        dict = json.load(outfile)\n",
    "        N = dict['n_neurons']\n",
    "        n_seeds = dict['n_seeds']\n",
    "        t_max = dict['t_max']\n",
    "        test_every = dict['test_every']\n",
    "        gamma = dict['gamma']\n",
    "\n",
    "    eigenvalues_blob = np.zeros((t_max // test_every + 1, N, n_seeds))\n",
    "    mu_blob = np.zeros((t_max // test_every + 1, n_seeds))\n",
    "    for seed in range(n_seeds):\n",
    "        eigenvalues_blob[:, :, seed] = np.load('raw/{}/seed_{}/eigenvalues_acc.npy'.format(path, seed))\n",
    "        mu_blob[:, seed] = np.load('raw/{}/seed_{}/mu_acc.npy'.format(path, seed))\n",
    "    \n",
    "    # Discard the first half of the values for each run\n",
    "    eigenvalues_blob = eigenvalues_blob[len(eigenvalues_blob) // 2:].flatten()\n",
    "    mu_mean = mu_blob[len(mu_blob)//2:].mean(axis=1)\n",
    "    mu_std = mu_blob[len(mu_blob)//2:].std(axis=1)\n",
    "    \n",
    "\n",
    "    \n",
    "    plt.figure()\n",
    "    plt.hist(eigenvalues_blob, density=True, bins=100)\n",
    "    plt.show()\n",
    "    \n",
    "    plt.figure()\n",
    "    plt.errorbar(x=range(len(mu_mean)), y=mu_mean, yerr=mu_std)\n",
    "    plt.axhline(y=theoretical_mu_null_alpha(gamma), c='r')\n",
    "    plt.show()"
   ]
  },
  {
   "cell_type": "code",
   "execution_count": null,
   "metadata": {},
   "outputs": [],
   "source": []
  }
 ],
 "metadata": {
  "kernelspec": {
   "display_name": "Python [conda env:env_oct_18]",
   "language": "python",
   "name": "conda-env-env_oct_18-py"
  },
  "language_info": {
   "codemirror_mode": {
    "name": "ipython",
    "version": 3
   },
   "file_extension": ".py",
   "mimetype": "text/x-python",
   "name": "python",
   "nbconvert_exporter": "python",
   "pygments_lexer": "ipython3",
   "version": "3.6.4"
  }
 },
 "nbformat": 4,
 "nbformat_minor": 2
}
